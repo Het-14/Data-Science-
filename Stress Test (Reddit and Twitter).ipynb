{
 "cells": [
  {
   "cell_type": "code",
   "execution_count": 1,
   "id": "507127c2-b78e-482f-8491-9d6abc0f05cd",
   "metadata": {},
   "outputs": [],
   "source": [
    "import pandas as pd\n",
    "import matplotlib.pyplot as plt"
   ]
  },
  {
   "cell_type": "code",
   "execution_count": 39,
   "id": "46e0b59e-fc7c-42da-94a7-4c962e1b9d31",
   "metadata": {},
   "outputs": [],
   "source": [
    "df_reddit_combi = pd.read_csv(\"C://Users//het14//A. GFG DataScience//Data//Stress Test//Reddit_Combi.csv\", sep =';')\n",
    "df_twitter = pd.read_csv(\"C://Users//het14//A. GFG DataScience//Data//Stress Test//Twitter_ Non-Advert-Tabelle 1.csv\", sep = ';')"
   ]
  },
  {
   "cell_type": "code",
   "execution_count": 40,
   "id": "dd6337df-0b04-4153-95ee-c91e31df2475",
   "metadata": {},
   "outputs": [
    {
     "data": {
      "text/html": [
       "<div>\n",
       "<style scoped>\n",
       "    .dataframe tbody tr th:only-of-type {\n",
       "        vertical-align: middle;\n",
       "    }\n",
       "\n",
       "    .dataframe tbody tr th {\n",
       "        vertical-align: top;\n",
       "    }\n",
       "\n",
       "    .dataframe thead th {\n",
       "        text-align: right;\n",
       "    }\n",
       "</style>\n",
       "<table border=\"1\" class=\"dataframe\">\n",
       "  <thead>\n",
       "    <tr style=\"text-align: right;\">\n",
       "      <th></th>\n",
       "      <th>title</th>\n",
       "      <th>body</th>\n",
       "      <th>Body_Title</th>\n",
       "      <th>label</th>\n",
       "      <th>Unnamed: 4</th>\n",
       "    </tr>\n",
       "  </thead>\n",
       "  <tbody>\n",
       "    <tr>\n",
       "      <th>0</th>\n",
       "      <td>Envy to other is swallowing me</td>\n",
       "      <td>Im from developingcountry, Indonesia , and for...</td>\n",
       "      <td>Envy to other is swallowing me Im from develop...</td>\n",
       "      <td>1</td>\n",
       "      <td>NaN</td>\n",
       "    </tr>\n",
       "    <tr>\n",
       "      <th>1</th>\n",
       "      <td>Nothin outta the ordinary. Paradise. Job stres...</td>\n",
       "      <td>Um hello ....well many can relate im sure. Aft...</td>\n",
       "      <td>Nothin outta the ordinary. Paradise. Job stres...</td>\n",
       "      <td>1</td>\n",
       "      <td>NaN</td>\n",
       "    </tr>\n",
       "    <tr>\n",
       "      <th>2</th>\n",
       "      <td>Almost 49 and the chasm of emptiness has never...</td>\n",
       "      <td>I’ve been diagnosed severe bi polar where you ...</td>\n",
       "      <td>Almost 49 and the chasm of emptiness has never...</td>\n",
       "      <td>1</td>\n",
       "      <td>NaN</td>\n",
       "    </tr>\n",
       "    <tr>\n",
       "      <th>3</th>\n",
       "      <td>I’m happy again</td>\n",
       "      <td>After my closest friend left me in April, I ha...</td>\n",
       "      <td>I’m happy again After my closest friend left m...</td>\n",
       "      <td>0</td>\n",
       "      <td>NaN</td>\n",
       "    </tr>\n",
       "    <tr>\n",
       "      <th>4</th>\n",
       "      <td>Is it possible to recover from such a traumati...</td>\n",
       "      <td>I am only 15, and yet I feel my life is alread...</td>\n",
       "      <td>Is it possible to recover from such a traumati...</td>\n",
       "      <td>1</td>\n",
       "      <td>NaN</td>\n",
       "    </tr>\n",
       "  </tbody>\n",
       "</table>\n",
       "</div>"
      ],
      "text/plain": [
       "                                               title  \\\n",
       "0                     Envy to other is swallowing me   \n",
       "1  Nothin outta the ordinary. Paradise. Job stres...   \n",
       "2  Almost 49 and the chasm of emptiness has never...   \n",
       "3                                    I’m happy again   \n",
       "4  Is it possible to recover from such a traumati...   \n",
       "\n",
       "                                                body  \\\n",
       "0  Im from developingcountry, Indonesia , and for...   \n",
       "1  Um hello ....well many can relate im sure. Aft...   \n",
       "2  I’ve been diagnosed severe bi polar where you ...   \n",
       "3  After my closest friend left me in April, I ha...   \n",
       "4  I am only 15, and yet I feel my life is alread...   \n",
       "\n",
       "                                          Body_Title  label  Unnamed: 4  \n",
       "0  Envy to other is swallowing me Im from develop...      1         NaN  \n",
       "1  Nothin outta the ordinary. Paradise. Job stres...      1         NaN  \n",
       "2  Almost 49 and the chasm of emptiness has never...      1         NaN  \n",
       "3  I’m happy again After my closest friend left m...      0         NaN  \n",
       "4  Is it possible to recover from such a traumati...      1         NaN  "
      ]
     },
     "execution_count": 40,
     "metadata": {},
     "output_type": "execute_result"
    }
   ],
   "source": [
    "df_reddit_combi.head()"
   ]
  },
  {
   "cell_type": "code",
   "execution_count": 10,
   "id": "9dc04497-ff99-47fe-9bdf-08f0bca7ef9f",
   "metadata": {},
   "outputs": [
    {
     "data": {
      "text/plain": [
       "'Envy to other is swallowing me'"
      ]
     },
     "execution_count": 10,
     "metadata": {},
     "output_type": "execute_result"
    }
   ],
   "source": [
    "df_reddit_combi['title'][0]"
   ]
  },
  {
   "cell_type": "code",
   "execution_count": 11,
   "id": "47e68821-75ff-4018-aff7-5b9b5ba3d378",
   "metadata": {},
   "outputs": [
    {
     "data": {
      "text/plain": [
       "\"Im from developingcountry, Indonesia , and for now i temporary work overseas for 3 years contract, it's a hard labor job, and stressful. Next year my contract is finish. But, during my stay here, because of job, and my social life, my depression got worse, and i envy this developed country. Why this country is so good. I can afford anything i want here. Why can't we just have equality in currency exchange? I I need to work 15-20 years in big company in jakarta(our capital city) , just to get equal amount of saving money from what i got from 3 years working here. Yes, that's right, it's saving money, not spending money. And yes, im going to be a rich person in such young age If I think about it, this society is sick, the gap of un equality beetwen developing vs developed country, or the poor vs the rich is too big right now. Sorry if i look like an evil person , but because of this,I almost wish for war to happen, or this world to end, and got reseted. So everyone can have another chance to gain equality, the poor can finally have a chance to have a better life. Because if this world order stay this way, it will eventually collapse on itself. Soon.\""
      ]
     },
     "execution_count": 11,
     "metadata": {},
     "output_type": "execute_result"
    }
   ],
   "source": [
    "df_reddit_combi['body'][0]"
   ]
  },
  {
   "cell_type": "code",
   "execution_count": 12,
   "id": "5a97d19b-3ec1-4558-a508-7d18274e3f1d",
   "metadata": {},
   "outputs": [
    {
     "data": {
      "text/plain": [
       "\"Envy to other is swallowing me Im from developingcountry, Indonesia , and for now i temporary work overseas for 3 years contract, it's a hard labor job, and stressful. Next year my contract is finish. But, during my stay here, because of job, and my social life, my depression got worse, and i envy this developed country. Why this country is so good. I can afford anything i want here. Why can't we just have equality in currency exchange? I I need to work 15-20 years in big company in jakarta(our capital city) , just to get equal amount of saving money from what i got from 3 years working here. Yes, that's right, it's saving money, not spending money. And yes, im going to be a rich person in such young age If I think about it, this society is sick, the gap of un equality beetwen developing vs developed country, or the poor vs the rich is too big right now. Sorry if i look like an evil person , but because of this,I almost wish for war to happen, or this world to end, and got reseted. So everyone can have another chance to gain equality, the poor can finally have a chance to have a better life. Because if this world order stay this way, it will eventually collapse on itself. Soon.\""
      ]
     },
     "execution_count": 12,
     "metadata": {},
     "output_type": "execute_result"
    }
   ],
   "source": [
    "df_reddit_combi['Body_Title'][0]"
   ]
  },
  {
   "cell_type": "code",
   "execution_count": 41,
   "id": "2637481c-a46c-4550-b75b-9897cec33d60",
   "metadata": {},
   "outputs": [],
   "source": [
    "df_reddit_combi.drop(columns = ['Unnamed: 4', 'title', 'body'], inplace = True)"
   ]
  },
  {
   "cell_type": "code",
   "execution_count": 42,
   "id": "55d1b294-4f60-4217-91ad-19840dd949c4",
   "metadata": {},
   "outputs": [
    {
     "data": {
      "text/plain": [
       "(3123, 2)"
      ]
     },
     "execution_count": 42,
     "metadata": {},
     "output_type": "execute_result"
    }
   ],
   "source": [
    "df_reddit_combi.shape"
   ]
  },
  {
   "cell_type": "code",
   "execution_count": null,
   "id": "152b0987-45a5-4b8a-85ca-37e177b08f6b",
   "metadata": {},
   "outputs": [],
   "source": []
  },
  {
   "cell_type": "code",
   "execution_count": 25,
   "id": "e3713c64-71ee-4bba-b843-5a71a6575127",
   "metadata": {},
   "outputs": [
    {
     "data": {
      "text/html": [
       "<div>\n",
       "<style scoped>\n",
       "    .dataframe tbody tr th:only-of-type {\n",
       "        vertical-align: middle;\n",
       "    }\n",
       "\n",
       "    .dataframe tbody tr th {\n",
       "        vertical-align: top;\n",
       "    }\n",
       "\n",
       "    .dataframe thead th {\n",
       "        text-align: right;\n",
       "    }\n",
       "</style>\n",
       "<table border=\"1\" class=\"dataframe\">\n",
       "  <thead>\n",
       "    <tr style=\"text-align: right;\">\n",
       "      <th></th>\n",
       "      <th>text</th>\n",
       "      <th>label</th>\n",
       "      <th>Unnamed: 2</th>\n",
       "      <th>Unnamed: 3</th>\n",
       "      <th>Unnamed: 4</th>\n",
       "    </tr>\n",
       "  </thead>\n",
       "  <tbody>\n",
       "    <tr>\n",
       "      <th>0</th>\n",
       "      <td>speak-no-evil monkey Can I Be Honest With You...</td>\n",
       "      <td>1</td>\n",
       "      <td>NaN</td>\n",
       "      <td>NaN</td>\n",
       "      <td>NaN</td>\n",
       "    </tr>\n",
       "    <tr>\n",
       "      <th>1</th>\n",
       "      <td>Frau Goebbels early signs of psychosis psychot...</td>\n",
       "      <td>1</td>\n",
       "      <td>NaN</td>\n",
       "      <td>NaN</td>\n",
       "      <td>NaN</td>\n",
       "    </tr>\n",
       "    <tr>\n",
       "      <th>2</th>\n",
       "      <td>A lot of work and unfulfilled tasks plunge you...</td>\n",
       "      <td>1</td>\n",
       "      <td>NaN</td>\n",
       "      <td>NaN</td>\n",
       "      <td>NaN</td>\n",
       "    </tr>\n",
       "    <tr>\n",
       "      <th>3</th>\n",
       "      <td>Private health insurance delivers value for yo...</td>\n",
       "      <td>1</td>\n",
       "      <td>NaN</td>\n",
       "      <td>NaN</td>\n",
       "      <td>NaN</td>\n",
       "    </tr>\n",
       "    <tr>\n",
       "      <th>4</th>\n",
       "      <td>XpertOnline offers you the convenience of view...</td>\n",
       "      <td>1</td>\n",
       "      <td>NaN</td>\n",
       "      <td>NaN</td>\n",
       "      <td>NaN</td>\n",
       "    </tr>\n",
       "  </tbody>\n",
       "</table>\n",
       "</div>"
      ],
      "text/plain": [
       "                                                text  label  Unnamed: 2  \\\n",
       "0   speak-no-evil monkey Can I Be Honest With You...      1         NaN   \n",
       "1  Frau Goebbels early signs of psychosis psychot...      1         NaN   \n",
       "2  A lot of work and unfulfilled tasks plunge you...      1         NaN   \n",
       "3  Private health insurance delivers value for yo...      1         NaN   \n",
       "4  XpertOnline offers you the convenience of view...      1         NaN   \n",
       "\n",
       "   Unnamed: 3  Unnamed: 4  \n",
       "0         NaN         NaN  \n",
       "1         NaN         NaN  \n",
       "2         NaN         NaN  \n",
       "3         NaN         NaN  \n",
       "4         NaN         NaN  "
      ]
     },
     "execution_count": 25,
     "metadata": {},
     "output_type": "execute_result"
    }
   ],
   "source": [
    "df_twitter.head()"
   ]
  },
  {
   "cell_type": "code",
   "execution_count": 49,
   "id": "c2d0c153-920d-4ed2-bdf2-f544debc9ae3",
   "metadata": {},
   "outputs": [
    {
     "data": {
      "text/plain": [
       "'diversity & uniqueness - celebrating both with Faces SupportUs FosterAChildToExcelInSociety Bloggers Volunteer Donate Dogood Nonprofit Change Fundraising Socialgood Education NotForProfit GiveBack Volunteers Volunteering SelfCare '"
      ]
     },
     "execution_count": 49,
     "metadata": {},
     "output_type": "execute_result"
    }
   ],
   "source": [
    "df_twitter['text'][12]"
   ]
  },
  {
   "cell_type": "code",
   "execution_count": 50,
   "id": "264a2510-6916-46ae-ad93-899996a648b8",
   "metadata": {},
   "outputs": [],
   "source": [
    "df_twitter.drop(columns = ['Unnamed: 2', 'Unnamed: 3', 'Unnamed: 4'], inplace = True)"
   ]
  },
  {
   "cell_type": "code",
   "execution_count": 51,
   "id": "ad9631ef-1393-42c3-a106-84a5add2754f",
   "metadata": {},
   "outputs": [
    {
     "data": {
      "text/plain": [
       "(2051, 2)"
      ]
     },
     "execution_count": 51,
     "metadata": {},
     "output_type": "execute_result"
    }
   ],
   "source": [
    "df_twitter.shape"
   ]
  },
  {
   "cell_type": "code",
   "execution_count": 55,
   "id": "cffba031-581e-41a7-a2f0-13a42ea5b26c",
   "metadata": {},
   "outputs": [],
   "source": [
    "df_reddit_combi.rename(columns = {'Body_Title' : 'text'},inplace = True)"
   ]
  },
  {
   "cell_type": "code",
   "execution_count": 57,
   "id": "e7328381-2174-4e1b-a54e-a4070c0b9e5c",
   "metadata": {},
   "outputs": [
    {
     "data": {
      "text/html": [
       "<div>\n",
       "<style scoped>\n",
       "    .dataframe tbody tr th:only-of-type {\n",
       "        vertical-align: middle;\n",
       "    }\n",
       "\n",
       "    .dataframe tbody tr th {\n",
       "        vertical-align: top;\n",
       "    }\n",
       "\n",
       "    .dataframe thead th {\n",
       "        text-align: right;\n",
       "    }\n",
       "</style>\n",
       "<table border=\"1\" class=\"dataframe\">\n",
       "  <thead>\n",
       "    <tr style=\"text-align: right;\">\n",
       "      <th></th>\n",
       "      <th>text</th>\n",
       "      <th>label</th>\n",
       "    </tr>\n",
       "  </thead>\n",
       "  <tbody>\n",
       "    <tr>\n",
       "      <th>0</th>\n",
       "      <td>Envy to other is swallowing me Im from develop...</td>\n",
       "      <td>1</td>\n",
       "    </tr>\n",
       "    <tr>\n",
       "      <th>1</th>\n",
       "      <td>Nothin outta the ordinary. Paradise. Job stres...</td>\n",
       "      <td>1</td>\n",
       "    </tr>\n",
       "    <tr>\n",
       "      <th>2</th>\n",
       "      <td>Almost 49 and the chasm of emptiness has never...</td>\n",
       "      <td>1</td>\n",
       "    </tr>\n",
       "    <tr>\n",
       "      <th>3</th>\n",
       "      <td>I’m happy again After my closest friend left m...</td>\n",
       "      <td>0</td>\n",
       "    </tr>\n",
       "    <tr>\n",
       "      <th>4</th>\n",
       "      <td>Is it possible to recover from such a traumati...</td>\n",
       "      <td>1</td>\n",
       "    </tr>\n",
       "  </tbody>\n",
       "</table>\n",
       "</div>"
      ],
      "text/plain": [
       "                                                text  label\n",
       "0  Envy to other is swallowing me Im from develop...      1\n",
       "1  Nothin outta the ordinary. Paradise. Job stres...      1\n",
       "2  Almost 49 and the chasm of emptiness has never...      1\n",
       "3  I’m happy again After my closest friend left m...      0\n",
       "4  Is it possible to recover from such a traumati...      1"
      ]
     },
     "execution_count": 57,
     "metadata": {},
     "output_type": "execute_result"
    }
   ],
   "source": [
    "combine_df = pd.concat([df_reddit_combi, df_twitter], axis = 0)\n",
    "combine_df.head()"
   ]
  },
  {
   "cell_type": "code",
   "execution_count": 58,
   "id": "c93c6285-f296-4edc-bf78-67610d21c2d4",
   "metadata": {},
   "outputs": [
    {
     "data": {
      "text/plain": [
       "(5174, 2)"
      ]
     },
     "execution_count": 58,
     "metadata": {},
     "output_type": "execute_result"
    }
   ],
   "source": [
    "combine_df.shape"
   ]
  },
  {
   "cell_type": "code",
   "execution_count": 59,
   "id": "d3493e62-371c-4799-b309-15cd44a4b44a",
   "metadata": {},
   "outputs": [
    {
     "data": {
      "text/plain": [
       "text     0\n",
       "label    0\n",
       "dtype: int64"
      ]
     },
     "execution_count": 59,
     "metadata": {},
     "output_type": "execute_result"
    }
   ],
   "source": [
    "combine_df.isna().sum()"
   ]
  },
  {
   "cell_type": "code",
   "execution_count": 61,
   "id": "2e215766-78b2-4323-92e4-d0f486ef9e0c",
   "metadata": {},
   "outputs": [
    {
     "data": {
      "text/plain": [
       "79"
      ]
     },
     "execution_count": 61,
     "metadata": {},
     "output_type": "execute_result"
    }
   ],
   "source": [
    "combine_df.duplicated().sum()"
   ]
  },
  {
   "cell_type": "code",
   "execution_count": 62,
   "id": "4b3d02e9-b8f9-4b0f-9493-060544f56901",
   "metadata": {},
   "outputs": [],
   "source": [
    "combine_df.drop_duplicates(inplace = True)"
   ]
  },
  {
   "cell_type": "code",
   "execution_count": 67,
   "id": "3df5dc66-66a0-4ae9-806c-7a2da7219d30",
   "metadata": {},
   "outputs": [
    {
     "data": {
      "image/png": "[encoded data removed]",
      "text/plain": [
       "<Figure size 400x400 with 1 Axes>"
      ]
     },
     "metadata": {},
     "output_type": "display_data"
    }
   ],
   "source": [
    "label_counts = combine_df['label'].value_counts()\n",
    "\n",
    "# Plotting\n",
    "plt.figure(figsize=(4, 4))\n",
    "plt.pie(label_counts, labels=label_counts.index, autopct='%1.1f%%', startangle=140)\n",
    "plt.title('Distribution of Labels')\n",
    "plt.axis('equal')  # Equal aspect ratio ensures that pie is drawn as a circle.\n",
    "\n",
    "# Show the plot\n",
    "plt.show()"
   ]
  },
  {
   "cell_type": "code",
   "execution_count": 76,
   "id": "dc909cfa-79fb-49c9-a27c-b472d8d9a414",
   "metadata": {},
   "outputs": [],
   "source": [
    "import nltk\n",
    "from nltk.tokenize import word_tokenize\n",
    "from nltk.corpus import stopwords\n",
    "import string"
   ]
  },
  {
   "cell_type": "code",
   "execution_count": 77,
   "id": "d337483e-5836-4b98-a8f4-292cb5ac28b6",
   "metadata": {},
   "outputs": [
    {
     "name": "stderr",
     "output_type": "stream",
     "text": [
      "[nltk_data] Downloading package punkt to\n",
      "[nltk_data]     C:\\Users\\het14\\AppData\\Roaming\\nltk_data...\n",
      "[nltk_data]   Package punkt is already up-to-date!\n",
      "[nltk_data] Downloading package stopwords to\n",
      "[nltk_data]     C:\\Users\\het14\\AppData\\Roaming\\nltk_data...\n",
      "[nltk_data]   Package stopwords is already up-to-date!\n"
     ]
    },
    {
     "data": {
      "text/plain": [
       "True"
      ]
     },
     "execution_count": 77,
     "metadata": {},
     "output_type": "execute_result"
    }
   ],
   "source": [
    "nltk.download('punkt')\n",
    "nltk.download('stopwords')"
   ]
  },
  {
   "cell_type": "code",
   "execution_count": 79,
   "id": "926f3235-a6c8-4262-870a-515edc49990b",
   "metadata": {},
   "outputs": [],
   "source": [
    "# Get the list of English stopwords and punctuation\n",
    "stop_words = set(stopwords.words('english'))\n",
    "punctuation = set(string.punctuation)"
   ]
  },
  {
   "cell_type": "code",
   "execution_count": 82,
   "id": "7e0902dd-b2fe-432a-9a87-c67f706453f4",
   "metadata": {},
   "outputs": [],
   "source": [
    "# Function to remove punctuation and stop words from text\n",
    "def remove_punctuation_and_stopwords(text):\n",
    "    # Check if the text is not NaN\n",
    "    if isinstance(text, str):\n",
    "        # Tokenize the text\n",
    "        tokens = nltk.word_tokenize(text)\n",
    "        # Remove punctuation and stop words\n",
    "        tokens = [word for word in tokens if word.lower() not in stop_words and word.lower() not in punctuation]\n",
    "        # Join the tokens back into a single string\n",
    "        return ' '.join(tokens)\n",
    "    else:\n",
    "        return ''  # Return empty string for NaN values"
   ]
  },
  {
   "cell_type": "code",
   "execution_count": 83,
   "id": "961500ab-6e89-4f58-aa4b-daaaa4b0da17",
   "metadata": {},
   "outputs": [],
   "source": [
    "# Apply the function to the 'text' column of the DataFrame\n",
    "combined_df['text'] = combined_df['text'].apply(remove_punctuation_and_stopwords)"
   ]
  },
  {
   "cell_type": "code",
   "execution_count": 89,
   "id": "f7b62c6e-5628-47d8-a60a-283f1d92fff5",
   "metadata": {},
   "outputs": [],
   "source": [
    "combined_df['text'] = combined_df['text'].str.lower()"
   ]
  },
  {
   "cell_type": "code",
   "execution_count": 101,
   "id": "c82c9787-9d26-4c8c-a683-73961f1565a1",
   "metadata": {},
   "outputs": [],
   "source": [
    "from gensim.models import Word2Vec\n",
    "from nltk.tokenize import word_tokenize\n",
    "import numpy as np"
   ]
  },
  {
   "cell_type": "code",
   "execution_count": 94,
   "id": "6c9d8b2f-1417-49f2-be82-65af213a63d8",
   "metadata": {},
   "outputs": [],
   "source": [
    "combine_df['tokenized_text'] = combined_df['text'].apply(word_tokenize)"
   ]
  },
  {
   "cell_type": "code",
   "execution_count": 95,
   "id": "0f16b6ed-8961-4be1-b3e3-6fd848f86f6c",
   "metadata": {},
   "outputs": [
    {
     "data": {
      "text/html": [
       "<div>\n",
       "<style scoped>\n",
       "    .dataframe tbody tr th:only-of-type {\n",
       "        vertical-align: middle;\n",
       "    }\n",
       "\n",
       "    .dataframe tbody tr th {\n",
       "        vertical-align: top;\n",
       "    }\n",
       "\n",
       "    .dataframe thead th {\n",
       "        text-align: right;\n",
       "    }\n",
       "</style>\n",
       "<table border=\"1\" class=\"dataframe\">\n",
       "  <thead>\n",
       "    <tr style=\"text-align: right;\">\n",
       "      <th></th>\n",
       "      <th>text</th>\n",
       "      <th>label</th>\n",
       "      <th>tokenized_text</th>\n",
       "    </tr>\n",
       "  </thead>\n",
       "  <tbody>\n",
       "    <tr>\n",
       "      <th>0</th>\n",
       "      <td>Envy to other is swallowing me Im from develop...</td>\n",
       "      <td>1</td>\n",
       "      <td>[speak-no-evil, monkey, honest, globe, showing...</td>\n",
       "    </tr>\n",
       "    <tr>\n",
       "      <th>1</th>\n",
       "      <td>Nothin outta the ordinary. Paradise. Job stres...</td>\n",
       "      <td>1</td>\n",
       "      <td>[frau, goebbels, early, signs, psychosis, psyc...</td>\n",
       "    </tr>\n",
       "    <tr>\n",
       "      <th>2</th>\n",
       "      <td>Almost 49 and the chasm of emptiness has never...</td>\n",
       "      <td>1</td>\n",
       "      <td>[lot, work, unfulfilled, tasks, plunge, extrem...</td>\n",
       "    </tr>\n",
       "    <tr>\n",
       "      <th>3</th>\n",
       "      <td>I’m happy again After my closest friend left m...</td>\n",
       "      <td>0</td>\n",
       "      <td>[private, health, insurance, delivers, value, ...</td>\n",
       "    </tr>\n",
       "    <tr>\n",
       "      <th>4</th>\n",
       "      <td>Is it possible to recover from such a traumati...</td>\n",
       "      <td>1</td>\n",
       "      <td>[xpertonline, offers, convenience, viewing, pa...</td>\n",
       "    </tr>\n",
       "  </tbody>\n",
       "</table>\n",
       "</div>"
      ],
      "text/plain": [
       "                                                text  label  \\\n",
       "0  Envy to other is swallowing me Im from develop...      1   \n",
       "1  Nothin outta the ordinary. Paradise. Job stres...      1   \n",
       "2  Almost 49 and the chasm of emptiness has never...      1   \n",
       "3  I’m happy again After my closest friend left m...      0   \n",
       "4  Is it possible to recover from such a traumati...      1   \n",
       "\n",
       "                                      tokenized_text  \n",
       "0  [speak-no-evil, monkey, honest, globe, showing...  \n",
       "1  [frau, goebbels, early, signs, psychosis, psyc...  \n",
       "2  [lot, work, unfulfilled, tasks, plunge, extrem...  \n",
       "3  [private, health, insurance, delivers, value, ...  \n",
       "4  [xpertonline, offers, convenience, viewing, pa...  "
      ]
     },
     "execution_count": 95,
     "metadata": {},
     "output_type": "execute_result"
    }
   ],
   "source": [
    "combine_df.head()"
   ]
  },
  {
   "cell_type": "code",
   "execution_count": 105,
   "id": "39514da2-ff31-430a-86c1-7fd0f4c7f6d8",
   "metadata": {},
   "outputs": [],
   "source": [
    "# Load pre-trained Word2Vec model (assuming 'model' is your pre-trained Word2Vec model)\n",
    "# If you haven't trained a Word2Vec model yet, you can train one using your tokenized text data\n",
    "model = Word2Vec(sentences=combine_df['tokenized_text'], vector_size=100, window=5, min_count=1, workers=4)\n",
    "\n",
    "# Function to average word vectors to represent the entire text\n",
    "def text_to_vector(text):\n",
    "    # Initialize an array to store word vectors\n",
    "    vectors = []\n",
    "    for word in text:\n",
    "        # Check if the word is in the vocabulary of the Word2Vec model\n",
    "        if word in model.wv:\n",
    "            vectors.append(model.wv[word])\n",
    "    # Average the word vectors\n",
    "    if vectors:\n",
    "        return np.mean(vectors, axis=0)\n",
    "    else:\n",
    "        # If no word vectors are available, return a vector of zeros\n",
    "        return np.zeros(model.vector_size)\n",
    "\n",
    "# Apply the function to the 'tokenized_text' column to obtain numerical features\n",
    "combine_df['word2vec_features'] = combine_df['tokenized_text'].apply(text_to_vector)\n"
   ]
  },
  {
   "cell_type": "code",
   "execution_count": 115,
   "id": "92ef1f0e-b98d-4aa7-8caa-697777bff7ae",
   "metadata": {},
   "outputs": [],
   "source": [
    "from imblearn.over_sampling import SMOTE\n",
    "import numpy as np"
   ]
  },
  {
   "cell_type": "code",
   "execution_count": 109,
   "id": "82a9f71b-9d43-4117-9de5-5e3126eaa1f8",
   "metadata": {},
   "outputs": [
    {
     "data": {
      "text/html": [
       "<div>\n",
       "<style scoped>\n",
       "    .dataframe tbody tr th:only-of-type {\n",
       "        vertical-align: middle;\n",
       "    }\n",
       "\n",
       "    .dataframe tbody tr th {\n",
       "        vertical-align: top;\n",
       "    }\n",
       "\n",
       "    .dataframe thead th {\n",
       "        text-align: right;\n",
       "    }\n",
       "</style>\n",
       "<table border=\"1\" class=\"dataframe\">\n",
       "  <thead>\n",
       "    <tr style=\"text-align: right;\">\n",
       "      <th></th>\n",
       "      <th>text</th>\n",
       "      <th>label</th>\n",
       "      <th>tokenized_text</th>\n",
       "      <th>word2vec_features</th>\n",
       "    </tr>\n",
       "  </thead>\n",
       "  <tbody>\n",
       "    <tr>\n",
       "      <th>0</th>\n",
       "      <td>Envy to other is swallowing me Im from develop...</td>\n",
       "      <td>1</td>\n",
       "      <td>[speak-no-evil, monkey, honest, globe, showing...</td>\n",
       "      <td>[-0.0759038, 0.24934357, 0.00076353044, 0.1843...</td>\n",
       "    </tr>\n",
       "    <tr>\n",
       "      <th>1</th>\n",
       "      <td>Nothin outta the ordinary. Paradise. Job stres...</td>\n",
       "      <td>1</td>\n",
       "      <td>[frau, goebbels, early, signs, psychosis, psyc...</td>\n",
       "      <td>[-0.075905755, 0.18079984, 0.018190555, 0.1283...</td>\n",
       "    </tr>\n",
       "    <tr>\n",
       "      <th>2</th>\n",
       "      <td>Almost 49 and the chasm of emptiness has never...</td>\n",
       "      <td>1</td>\n",
       "      <td>[lot, work, unfulfilled, tasks, plunge, extrem...</td>\n",
       "      <td>[-0.015742088, 0.23211373, -0.04798914, 0.1658...</td>\n",
       "    </tr>\n",
       "    <tr>\n",
       "      <th>3</th>\n",
       "      <td>I’m happy again After my closest friend left m...</td>\n",
       "      <td>0</td>\n",
       "      <td>[private, health, insurance, delivers, value, ...</td>\n",
       "      <td>[-0.053679205, 0.30646613, -0.03712701, 0.2264...</td>\n",
       "    </tr>\n",
       "    <tr>\n",
       "      <th>4</th>\n",
       "      <td>Is it possible to recover from such a traumati...</td>\n",
       "      <td>1</td>\n",
       "      <td>[xpertonline, offers, convenience, viewing, pa...</td>\n",
       "      <td>[-0.07873882, 0.20635778, 0.01077684, 0.149464...</td>\n",
       "    </tr>\n",
       "  </tbody>\n",
       "</table>\n",
       "</div>"
      ],
      "text/plain": [
       "                                                text  label  \\\n",
       "0  Envy to other is swallowing me Im from develop...      1   \n",
       "1  Nothin outta the ordinary. Paradise. Job stres...      1   \n",
       "2  Almost 49 and the chasm of emptiness has never...      1   \n",
       "3  I’m happy again After my closest friend left m...      0   \n",
       "4  Is it possible to recover from such a traumati...      1   \n",
       "\n",
       "                                      tokenized_text  \\\n",
       "0  [speak-no-evil, monkey, honest, globe, showing...   \n",
       "1  [frau, goebbels, early, signs, psychosis, psyc...   \n",
       "2  [lot, work, unfulfilled, tasks, plunge, extrem...   \n",
       "3  [private, health, insurance, delivers, value, ...   \n",
       "4  [xpertonline, offers, convenience, viewing, pa...   \n",
       "\n",
       "                                   word2vec_features  \n",
       "0  [-0.0759038, 0.24934357, 0.00076353044, 0.1843...  \n",
       "1  [-0.075905755, 0.18079984, 0.018190555, 0.1283...  \n",
       "2  [-0.015742088, 0.23211373, -0.04798914, 0.1658...  \n",
       "3  [-0.053679205, 0.30646613, -0.03712701, 0.2264...  \n",
       "4  [-0.07873882, 0.20635778, 0.01077684, 0.149464...  "
      ]
     },
     "execution_count": 109,
     "metadata": {},
     "output_type": "execute_result"
    }
   ],
   "source": [
    "combine_df.head()"
   ]
  },
  {
   "cell_type": "code",
   "execution_count": 112,
   "id": "e006ce15-7dba-4fe3-8a8f-6bd3828d7ae3",
   "metadata": {},
   "outputs": [],
   "source": [
    "X = combine_df['word2vec_features'] \n",
    "y = combine_df['label']"
   ]
  },
  {
   "cell_type": "code",
   "execution_count": 113,
   "id": "2a9e8181-6a94-4c7e-8953-d1957170a7d3",
   "metadata": {},
   "outputs": [],
   "source": [
    "X = np.vstack(X)  # Assuming 'word2vec_features' is stored as a list of arrays\n",
    "\n",
    "# Apply SMOTE\n",
    "smote = SMOTE()\n",
    "X_resampled, y_resampled = smote.fit_resample(X, y)"
   ]
  },
  {
   "cell_type": "code",
   "execution_count": 117,
   "id": "c58f2295-aa92-4c17-bfd5-cc8ebdf75fa4",
   "metadata": {},
   "outputs": [],
   "source": [
    "resampled_df = pd.DataFrame(X_resampled, columns=[f'feature_{i+1}' for i in range(X_resampled.shape[1])])\n",
    "resampled_df['label'] = y_resampled"
   ]
  },
  {
   "cell_type": "code",
   "execution_count": 120,
   "id": "ea9c5838-63a3-4c85-bd35-09f04e49088c",
   "metadata": {},
   "outputs": [
    {
     "data": {
      "text/html": [
       "<div>\n",
       "<style scoped>\n",
       "    .dataframe tbody tr th:only-of-type {\n",
       "        vertical-align: middle;\n",
       "    }\n",
       "\n",
       "    .dataframe tbody tr th {\n",
       "        vertical-align: top;\n",
       "    }\n",
       "\n",
       "    .dataframe thead th {\n",
       "        text-align: right;\n",
       "    }\n",
       "</style>\n",
       "<table border=\"1\" class=\"dataframe\">\n",
       "  <thead>\n",
       "    <tr style=\"text-align: right;\">\n",
       "      <th></th>\n",
       "      <th>feature_1</th>\n",
       "      <th>feature_2</th>\n",
       "      <th>feature_3</th>\n",
       "      <th>feature_4</th>\n",
       "      <th>feature_5</th>\n",
       "      <th>feature_6</th>\n",
       "      <th>feature_7</th>\n",
       "      <th>feature_8</th>\n",
       "      <th>feature_9</th>\n",
       "      <th>feature_10</th>\n",
       "      <th>...</th>\n",
       "      <th>feature_92</th>\n",
       "      <th>feature_93</th>\n",
       "      <th>feature_94</th>\n",
       "      <th>feature_95</th>\n",
       "      <th>feature_96</th>\n",
       "      <th>feature_97</th>\n",
       "      <th>feature_98</th>\n",
       "      <th>feature_99</th>\n",
       "      <th>feature_100</th>\n",
       "      <th>label</th>\n",
       "    </tr>\n",
       "  </thead>\n",
       "  <tbody>\n",
       "    <tr>\n",
       "      <th>0</th>\n",
       "      <td>-0.075904</td>\n",
       "      <td>0.249344</td>\n",
       "      <td>0.000764</td>\n",
       "      <td>0.184306</td>\n",
       "      <td>-0.086589</td>\n",
       "      <td>-0.374979</td>\n",
       "      <td>0.181133</td>\n",
       "      <td>0.646256</td>\n",
       "      <td>-0.224692</td>\n",
       "      <td>-0.170954</td>\n",
       "      <td>...</td>\n",
       "      <td>0.126009</td>\n",
       "      <td>-0.019515</td>\n",
       "      <td>0.025039</td>\n",
       "      <td>0.505606</td>\n",
       "      <td>0.269243</td>\n",
       "      <td>0.110804</td>\n",
       "      <td>-0.146837</td>\n",
       "      <td>-0.049736</td>\n",
       "      <td>0.040803</td>\n",
       "      <td>1</td>\n",
       "    </tr>\n",
       "    <tr>\n",
       "      <th>1</th>\n",
       "      <td>-0.075906</td>\n",
       "      <td>0.180800</td>\n",
       "      <td>0.018191</td>\n",
       "      <td>0.128331</td>\n",
       "      <td>-0.054277</td>\n",
       "      <td>-0.285804</td>\n",
       "      <td>0.133594</td>\n",
       "      <td>0.480485</td>\n",
       "      <td>-0.170011</td>\n",
       "      <td>-0.124421</td>\n",
       "      <td>...</td>\n",
       "      <td>0.073165</td>\n",
       "      <td>-0.008978</td>\n",
       "      <td>0.031578</td>\n",
       "      <td>0.383764</td>\n",
       "      <td>0.206071</td>\n",
       "      <td>0.086276</td>\n",
       "      <td>-0.105943</td>\n",
       "      <td>-0.041802</td>\n",
       "      <td>0.027839</td>\n",
       "      <td>1</td>\n",
       "    </tr>\n",
       "    <tr>\n",
       "      <th>2</th>\n",
       "      <td>-0.015742</td>\n",
       "      <td>0.232114</td>\n",
       "      <td>-0.047989</td>\n",
       "      <td>0.165887</td>\n",
       "      <td>-0.135483</td>\n",
       "      <td>-0.305488</td>\n",
       "      <td>0.159577</td>\n",
       "      <td>0.555601</td>\n",
       "      <td>-0.185710</td>\n",
       "      <td>-0.142155</td>\n",
       "      <td>...</td>\n",
       "      <td>0.154511</td>\n",
       "      <td>-0.036310</td>\n",
       "      <td>-0.023574</td>\n",
       "      <td>0.426041</td>\n",
       "      <td>0.207989</td>\n",
       "      <td>0.089835</td>\n",
       "      <td>-0.124613</td>\n",
       "      <td>-0.048678</td>\n",
       "      <td>0.054412</td>\n",
       "      <td>1</td>\n",
       "    </tr>\n",
       "    <tr>\n",
       "      <th>3</th>\n",
       "      <td>-0.053679</td>\n",
       "      <td>0.306466</td>\n",
       "      <td>-0.037127</td>\n",
       "      <td>0.226400</td>\n",
       "      <td>-0.250757</td>\n",
       "      <td>-0.454394</td>\n",
       "      <td>0.259243</td>\n",
       "      <td>0.851441</td>\n",
       "      <td>-0.353330</td>\n",
       "      <td>-0.220820</td>\n",
       "      <td>...</td>\n",
       "      <td>0.202494</td>\n",
       "      <td>-0.028210</td>\n",
       "      <td>-0.047392</td>\n",
       "      <td>0.662641</td>\n",
       "      <td>0.310193</td>\n",
       "      <td>0.164388</td>\n",
       "      <td>-0.189935</td>\n",
       "      <td>-0.046943</td>\n",
       "      <td>0.057599</td>\n",
       "      <td>0</td>\n",
       "    </tr>\n",
       "    <tr>\n",
       "      <th>4</th>\n",
       "      <td>-0.078739</td>\n",
       "      <td>0.206358</td>\n",
       "      <td>0.010777</td>\n",
       "      <td>0.149465</td>\n",
       "      <td>-0.076332</td>\n",
       "      <td>-0.324850</td>\n",
       "      <td>0.161165</td>\n",
       "      <td>0.559299</td>\n",
       "      <td>-0.197802</td>\n",
       "      <td>-0.144478</td>\n",
       "      <td>...</td>\n",
       "      <td>0.090426</td>\n",
       "      <td>-0.014042</td>\n",
       "      <td>0.029570</td>\n",
       "      <td>0.440442</td>\n",
       "      <td>0.230263</td>\n",
       "      <td>0.102204</td>\n",
       "      <td>-0.117408</td>\n",
       "      <td>-0.044675</td>\n",
       "      <td>0.033637</td>\n",
       "      <td>1</td>\n",
       "    </tr>\n",
       "  </tbody>\n",
       "</table>\n",
       "<p>5 rows × 101 columns</p>\n",
       "</div>"
      ],
      "text/plain": [
       "   feature_1  feature_2  feature_3  feature_4  feature_5  feature_6  \\\n",
       "0  -0.075904   0.249344   0.000764   0.184306  -0.086589  -0.374979   \n",
       "1  -0.075906   0.180800   0.018191   0.128331  -0.054277  -0.285804   \n",
       "2  -0.015742   0.232114  -0.047989   0.165887  -0.135483  -0.305488   \n",
       "3  -0.053679   0.306466  -0.037127   0.226400  -0.250757  -0.454394   \n",
       "4  -0.078739   0.206358   0.010777   0.149465  -0.076332  -0.324850   \n",
       "\n",
       "   feature_7  feature_8  feature_9  feature_10  ...  feature_92  feature_93  \\\n",
       "0   0.181133   0.646256  -0.224692   -0.170954  ...    0.126009   -0.019515   \n",
       "1   0.133594   0.480485  -0.170011   -0.124421  ...    0.073165   -0.008978   \n",
       "2   0.159577   0.555601  -0.185710   -0.142155  ...    0.154511   -0.036310   \n",
       "3   0.259243   0.851441  -0.353330   -0.220820  ...    0.202494   -0.028210   \n",
       "4   0.161165   0.559299  -0.197802   -0.144478  ...    0.090426   -0.014042   \n",
       "\n",
       "   feature_94  feature_95  feature_96  feature_97  feature_98  feature_99  \\\n",
       "0    0.025039    0.505606    0.269243    0.110804   -0.146837   -0.049736   \n",
       "1    0.031578    0.383764    0.206071    0.086276   -0.105943   -0.041802   \n",
       "2   -0.023574    0.426041    0.207989    0.089835   -0.124613   -0.048678   \n",
       "3   -0.047392    0.662641    0.310193    0.164388   -0.189935   -0.046943   \n",
       "4    0.029570    0.440442    0.230263    0.102204   -0.117408   -0.044675   \n",
       "\n",
       "   feature_100  label  \n",
       "0     0.040803      1  \n",
       "1     0.027839      1  \n",
       "2     0.054412      1  \n",
       "3     0.057599      0  \n",
       "4     0.033637      1  \n",
       "\n",
       "[5 rows x 101 columns]"
      ]
     },
     "execution_count": 120,
     "metadata": {},
     "output_type": "execute_result"
    }
   ],
   "source": [
    "resampled_df.head()"
   ]
  },
  {
   "cell_type": "code",
   "execution_count": 119,
   "id": "af853160-5f3c-4493-b798-512e4ef6be80",
   "metadata": {},
   "outputs": [],
   "source": [
    "from sklearn.model_selection import train_test_split\n",
    "from sklearn.linear_model import LogisticRegression\n",
    "from sklearn.metrics import accuracy_score, classification_report"
   ]
  },
  {
   "cell_type": "code",
   "execution_count": 121,
   "id": "c2f306ee-be95-4ef9-9e8f-94fc9186f627",
   "metadata": {},
   "outputs": [],
   "source": [
    "X = resampled_df.drop('label', axis=1)\n",
    "y = resampled_df['label']"
   ]
  },
  {
   "cell_type": "code",
   "execution_count": 122,
   "id": "942abcfa-fbaf-49e2-bced-370422da5ea1",
   "metadata": {},
   "outputs": [],
   "source": [
    "X_train, X_test, y_train, y_test = train_test_split(X, y, test_size=0.2, random_state=42)"
   ]
  },
  {
   "cell_type": "code",
   "execution_count": 123,
   "id": "0b4d1c0c-d969-41f3-bc4b-f57cffc59897",
   "metadata": {},
   "outputs": [
    {
     "name": "stdout",
     "output_type": "stream",
     "text": [
      "Accuracy: 0.5780164245104232\n"
     ]
    }
   ],
   "source": [
    "model = LogisticRegression()\n",
    "model.fit(X_train, y_train)\n",
    "\n",
    "y_pred = model.predict(X_test)\n",
    "\n",
    "accuracy = accuracy_score(y_test, y_pred)\n",
    "print(\"Accuracy:\", accuracy)"
   ]
  },
  {
   "cell_type": "code",
   "execution_count": 124,
   "id": "84a00f2a-69a8-4179-b45f-345c49a5e3af",
   "metadata": {},
   "outputs": [
    {
     "name": "stdout",
     "output_type": "stream",
     "text": [
      "\n",
      "Classification Report:\n",
      "              precision    recall  f1-score   support\n",
      "\n",
      "           0       0.58      0.53      0.56       788\n",
      "           1       0.57      0.62      0.60       795\n",
      "\n",
      "    accuracy                           0.58      1583\n",
      "   macro avg       0.58      0.58      0.58      1583\n",
      "weighted avg       0.58      0.58      0.58      1583\n",
      "\n"
     ]
    }
   ],
   "source": [
    "print(\"\\nClassification Report:\")\n",
    "print(classification_report(y_test, y_pred))"
   ]
  },
  {
   "cell_type": "code",
   "execution_count": null,
   "id": "0ea6a4a8-35aa-494e-a1db-b4cff530fc97",
   "metadata": {},
   "outputs": [],
   "source": []
  }
 ],
 "metadata": {
  "kernelspec": {
   "display_name": "Python 3 (ipykernel)",
   "language": "python",
   "name": "python3"
  },
  "language_info": {
   "codemirror_mode": {
    "name": "ipython",
    "version": 3
   },
   "file_extension": ".py",
   "mimetype": "text/x-python",
   "name": "python",
   "nbconvert_exporter": "python",
   "pygments_lexer": "ipython3",
   "version": "3.11.7"
  }
 },
 "nbformat": 4,
 "nbformat_minor": 5
}
